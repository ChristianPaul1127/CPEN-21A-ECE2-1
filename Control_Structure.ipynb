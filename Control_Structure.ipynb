{
  "nbformat": 4,
  "nbformat_minor": 0,
  "metadata": {
    "colab": {
      "name": "Control Structure.ipynb",
      "provenance": [],
      "toc_visible": true,
      "authorship_tag": "ABX9TyNjnbo4xJKgI17ubypLGuFR",
      "include_colab_link": true
    },
    "kernelspec": {
      "name": "python3",
      "display_name": "Python 3"
    },
    "language_info": {
      "name": "python"
    }
  },
  "cells": [
    {
      "cell_type": "markdown",
      "metadata": {
        "id": "view-in-github",
        "colab_type": "text"
      },
      "source": [
        "<a href=\"https://colab.research.google.com/github/ChristianPaul1127/CPEN-21A-ECE2-1/blob/main/Control_Structure.ipynb\" target=\"_parent\"><img src=\"https://colab.research.google.com/assets/colab-badge.svg\" alt=\"Open In Colab\"/></a>"
      ]
    },
    {
      "cell_type": "markdown",
      "metadata": {
        "id": "mNwblkr-LBBn"
      },
      "source": [
        "# If statement\n"
      ]
    },
    {
      "cell_type": "code",
      "metadata": {
        "colab": {
          "base_uri": "https://localhost:8080/"
        },
        "id": "e1IZwl8UKV8q",
        "outputId": "20722f5b-8fa3-4518-ea0c-769300a24663"
      },
      "source": [
        "a=12\n",
        "b=100\n",
        "if b>a:\n",
        "  print(\"b is greater than a\")"
      ],
      "execution_count": 20,
      "outputs": [
        {
          "output_type": "stream",
          "name": "stdout",
          "text": [
            "b is greater than a\n"
          ]
        }
      ]
    },
    {
      "cell_type": "markdown",
      "metadata": {
        "id": "imv1C3nKLNcm"
      },
      "source": [
        "# Elif statement"
      ]
    },
    {
      "cell_type": "code",
      "metadata": {
        "colab": {
          "base_uri": "https://localhost:8080/"
        },
        "id": "xxdrOXQdLRlI",
        "outputId": "103f4065-80f2-4bc4-e730-360ddbb15611"
      },
      "source": [
        "a=12\n",
        "b=13\n",
        "if b>a:\n",
        "    print(\"b is greater than a\")\n",
        "elif b==a:\n",
        "      print(\"b is equal to a\")"
      ],
      "execution_count": 19,
      "outputs": [
        {
          "output_type": "stream",
          "name": "stdout",
          "text": [
            "b is greater than a\n"
          ]
        }
      ]
    },
    {
      "cell_type": "markdown",
      "metadata": {
        "id": "xK0Y2YAALw-M"
      },
      "source": [
        "# Else Statement"
      ]
    },
    {
      "cell_type": "code",
      "metadata": {
        "colab": {
          "base_uri": "https://localhost:8080/"
        },
        "id": "WFSgn4RcLzhv",
        "outputId": "f39ac8c4-cfd0-440b-c0bc-f85db3b1c737"
      },
      "source": [
        "a=30\n",
        "b=30\n",
        "if a>b:\n",
        "  print(\"a is greater than b\")\n",
        "elif b>a:\n",
        "    print(\"b is greater than a\")\n",
        "else:\n",
        "      print(\"a is equal to b\")"
      ],
      "execution_count": 18,
      "outputs": [
        {
          "output_type": "stream",
          "name": "stdout",
          "text": [
            "a is equal to b\n"
          ]
        }
      ]
    },
    {
      "cell_type": "markdown",
      "metadata": {
        "id": "l3tLQwSKL9_s"
      },
      "source": [
        "# Short Hand If Statement"
      ]
    },
    {
      "cell_type": "code",
      "metadata": {
        "colab": {
          "base_uri": "https://localhost:8080/"
        },
        "id": "fXVXI18_MB1f",
        "outputId": "3576bcd2-6561-4834-b019-f7a0cc121ca8"
      },
      "source": [
        "a=12\n",
        "b=6\n",
        "if a>b:\n",
        "  print(\"a is greater than b\")"
      ],
      "execution_count": 15,
      "outputs": [
        {
          "output_type": "stream",
          "name": "stdout",
          "text": [
            "a is greater than b\n"
          ]
        }
      ]
    },
    {
      "cell_type": "markdown",
      "metadata": {
        "id": "Fi8ZjF23MF0k"
      },
      "source": [
        "# Short Hand If.. Else Statement"
      ]
    },
    {
      "cell_type": "code",
      "metadata": {
        "colab": {
          "base_uri": "https://localhost:8080/"
        },
        "id": "_g1GBDAoMJvt",
        "outputId": "a88081b5-b88d-48ce-ccae-4475f9e763af"
      },
      "source": [
        "a=7\n",
        "b=14\n",
        "print(\"a is greater than b\") if a>b else print(\"b is greater than a\")"
      ],
      "execution_count": 14,
      "outputs": [
        {
          "output_type": "stream",
          "name": "stdout",
          "text": [
            "b is greater than a\n"
          ]
        }
      ]
    },
    {
      "cell_type": "markdown",
      "metadata": {
        "id": "smZKunHOMa61"
      },
      "source": [
        "# And logical condition"
      ]
    },
    {
      "cell_type": "code",
      "metadata": {
        "colab": {
          "base_uri": "https://localhost:8080/"
        },
        "id": "jnQCW_diMd2F",
        "outputId": "242cdcb5-67ae-47db-daba-8d64e524892a"
      },
      "source": [
        "a=200\n",
        "b=300\n",
        "c=500\n",
        "if a>b and c>a:\n",
        "  print(\"Both conditions are True\")\n",
        "else:\n",
        "    print(\"Evaluated as False\")"
      ],
      "execution_count": 13,
      "outputs": [
        {
          "output_type": "stream",
          "name": "stdout",
          "text": [
            "Evaluated as False\n"
          ]
        }
      ]
    },
    {
      "cell_type": "markdown",
      "metadata": {
        "id": "dyPXc__OMk8s"
      },
      "source": [
        "# Or logical condition"
      ]
    },
    {
      "cell_type": "code",
      "metadata": {
        "colab": {
          "base_uri": "https://localhost:8080/"
        },
        "id": "_xBIGOuLMm2e",
        "outputId": "8c773503-ab2e-4cb4-9890-1bcb8b2fdc31"
      },
      "source": [
        "a=200\n",
        "b=300\n",
        "c=500\n",
        "if a>b or c>a:\n",
        "  print(\"Evaluated as True\")\n",
        "else:\n",
        "    print(\"Evaluated as False\")"
      ],
      "execution_count": 21,
      "outputs": [
        {
          "output_type": "stream",
          "name": "stdout",
          "text": [
            "Evaluated as True\n"
          ]
        }
      ]
    },
    {
      "cell_type": "markdown",
      "metadata": {
        "id": "k6qOaTaAM6zO"
      },
      "source": [
        "# Nested If.. Else Statement"
      ]
    },
    {
      "cell_type": "code",
      "metadata": {
        "colab": {
          "base_uri": "https://localhost:8080/"
        },
        "id": "ICqsRuI_M90X",
        "outputId": "c2ed230c-0118-4012-9bbc-e21ce6ee691b"
      },
      "source": [
        "x=20\n",
        "if x>10:\n",
        "  print(\"Above Ten\")\n",
        "  if x>20:\n",
        "    print(\"Above Twenty\")\n",
        "  else:print(\"Above Ten but not above Twenty\")\n",
        "else:\n",
        "  print(\"Not above Ten\")"
      ],
      "execution_count": 26,
      "outputs": [
        {
          "output_type": "stream",
          "name": "stdout",
          "text": [
            "Above Ten\n",
            "Above Ten but not above Twenty\n"
          ]
        }
      ]
    },
    {
      "cell_type": "markdown",
      "metadata": {
        "id": "wMDxd3PwNbr5"
      },
      "source": [
        "# Example 1"
      ]
    },
    {
      "cell_type": "code",
      "metadata": {
        "colab": {
          "base_uri": "https://localhost:8080/"
        },
        "id": "ahWDNQOQNdNa",
        "outputId": "675d0e08-815f-45fb-d262-571594d5ad60"
      },
      "source": [
        "age=int(input(\"Enter your age: \"))\n",
        "if age>=18:\n",
        "  print(\"You are qualified to vote.\")\n",
        "else:\n",
        "    print(\"You are not qualified to vote\")"
      ],
      "execution_count": 29,
      "outputs": [
        {
          "output_type": "stream",
          "name": "stdout",
          "text": [
            "Enter your age: 111\n",
            "You are qualified to vote.\n"
          ]
        }
      ]
    },
    {
      "cell_type": "markdown",
      "metadata": {
        "id": "uPzUflAgNvGB"
      },
      "source": [
        "# Example 2"
      ]
    },
    {
      "cell_type": "code",
      "metadata": {
        "colab": {
          "base_uri": "https://localhost:8080/"
        },
        "id": "Wy_EelzrNxYS",
        "outputId": "b7ad6396-fa36-4b6d-c3f6-0c144f3f3ddb"
      },
      "source": [
        "number=int(input(\"Enter the number: \"))\n",
        "if number==0:\n",
        "  print(\"zero\")\n",
        "elif number>0:\n",
        "    print(\"positive\")\n",
        "else:\n",
        "      print(\"negative\")"
      ],
      "execution_count": 35,
      "outputs": [
        {
          "output_type": "stream",
          "name": "stdout",
          "text": [
            "Enter the number: -123\n",
            "negative\n"
          ]
        }
      ]
    },
    {
      "cell_type": "markdown",
      "metadata": {
        "id": "WhLS-jmGOKf3"
      },
      "source": [
        "# Example 3"
      ]
    },
    {
      "cell_type": "code",
      "metadata": {
        "colab": {
          "base_uri": "https://localhost:8080/"
        },
        "id": "SQgFlxdgOMMn",
        "outputId": "6d7fdf15-909c-420d-f0ff-b8dc0ced74f1"
      },
      "source": [
        "grade=int(input(\"Enter your grade: \"))\n",
        "if grade>=75:\n",
        "  print(\"Passed\")\n",
        "elif grade==74:\n",
        "  print(\"Remedial\")\n",
        "else:\n",
        "  print(\"Failed\")"
      ],
      "execution_count": 37,
      "outputs": [
        {
          "output_type": "stream",
          "name": "stdout",
          "text": [
            "Enter your grade: 74\n",
            "Remedial\n"
          ]
        }
      ]
    }
  ]
}