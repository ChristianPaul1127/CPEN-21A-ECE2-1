{
  "nbformat": 4,
  "nbformat_minor": 0,
  "metadata": {
    "colab": {
      "name": "Final Exam.ipynb",
      "provenance": [],
      "collapsed_sections": [],
      "authorship_tag": "ABX9TyOYkzPrup94vcWFVMyXj4BC",
      "include_colab_link": true
    },
    "kernelspec": {
      "name": "python3",
      "display_name": "Python 3"
    },
    "language_info": {
      "name": "python"
    }
  },
  "cells": [
    {
      "cell_type": "markdown",
      "metadata": {
        "id": "view-in-github",
        "colab_type": "text"
      },
      "source": [
        "<a href=\"https://colab.research.google.com/github/ChristianPaul1127/CPEN-21A-ECE2-1/blob/main/Final_Exam.ipynb\" target=\"_parent\"><img src=\"https://colab.research.google.com/assets/colab-badge.svg\" alt=\"Open In Colab\"/></a>"
      ]
    },
    {
      "cell_type": "markdown",
      "source": [
        "##Final Exam"
      ],
      "metadata": {
        "id": "2zROr_dpAN2r"
      }
    },
    {
      "cell_type": "markdown",
      "source": [
        "#Problem Statement 1"
      ],
      "metadata": {
        "id": "jgaG2hZWAe4J"
      }
    },
    {
      "cell_type": "code",
      "source": [
        "sum=0\n",
        "#For Loop Statement\n",
        "for i in range(-6,4):\n",
        "  sum+=i\n",
        "  print (sum)"
      ],
      "metadata": {
        "colab": {
          "base_uri": "https://localhost:8080/"
        },
        "id": "Um9H0rfCAiFz",
        "outputId": "dd852a3f-5e62-4556-c405-69c4cf1514fc"
      },
      "execution_count": null,
      "outputs": [
        {
          "output_type": "stream",
          "name": "stdout",
          "text": [
            "-6\n",
            "-11\n",
            "-15\n",
            "-18\n",
            "-20\n",
            "-21\n",
            "-21\n",
            "-20\n",
            "-18\n",
            "-15\n"
          ]
        }
      ]
    },
    {
      "cell_type": "markdown",
      "source": [
        "#Problem Statement 2"
      ],
      "metadata": {
        "id": "agE8uvB0AZVx"
      }
    },
    {
      "cell_type": "code",
      "source": [
        "i=0\n",
        "n_string = input(\"Enter 5 Numbers: \")\n",
        "n_int = int(n_string)\n",
        "n_length = len(n_string)\n",
        "\n",
        "#While Loop Statement\n",
        "while n_int!=0:\n",
        "    if i==0:\n",
        "        last = n_int%10\n",
        "        i = i+1\n",
        "    first = n_int%10\n",
        "    n_int = int(n_int/10)\n",
        "\n",
        "s = first + last\n",
        "if n_length>5:\n",
        "    print(\"Only input 5 Numbers! Please try again.\")\n",
        "else:\n",
        "  print(\"First Digit(\", first,\")\" \" + Last Digit(\", last,\") =\",s)"
      ],
      "metadata": {
        "colab": {
          "base_uri": "https://localhost:8080/"
        },
        "id": "i6DMIVPnAi06",
        "outputId": "cf9ea735-86b7-4dcf-a7ba-8046f7140c39"
      },
      "execution_count": 178,
      "outputs": [
        {
          "output_type": "stream",
          "name": "stdout",
          "text": [
            "Enter 5 Numbers: 11234\n",
            "First Digit( 1 ) + Last Digit( 4 ) = 5\n"
          ]
        }
      ]
    },
    {
      "cell_type": "markdown",
      "source": [
        "#Problem Statement 3\n"
      ],
      "metadata": {
        "id": "MYM7U_w3AWYK"
      }
    },
    {
      "cell_type": "code",
      "source": [
        "grade=int(input(\"Enter your grade: \"))\n",
        "if grade>=90:\n",
        "  print(\"A\")\n",
        "#Nested IF-Else Statement\n",
        "elif 89<=grade<=90:\n",
        "  print(\"B\")\n",
        "elif 70<=grade<=79:\n",
        "  print(\"C\")\n",
        "elif 60<=grade<=69:\n",
        "  print(\"D\")\n",
        "else:\n",
        "  print(\"F\")"
      ],
      "metadata": {
        "id": "X6VRBDAgATAf",
        "colab": {
          "base_uri": "https://localhost:8080/"
        },
        "outputId": "18b4ab8c-3417-4246-f728-2ad9dac5ae02"
      },
      "execution_count": 177,
      "outputs": [
        {
          "output_type": "stream",
          "name": "stdout",
          "text": [
            "Enter your grade: 59\n",
            "F\n"
          ]
        }
      ]
    }
  ]
}