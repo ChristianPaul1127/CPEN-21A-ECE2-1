{
  "nbformat": 4,
  "nbformat_minor": 0,
  "metadata": {
    "colab": {
      "name": "Lab1.ipynb",
      "provenance": [],
      "authorship_tag": "ABX9TyOgGCX42fTMu9rxnfrENE3S",
      "include_colab_link": true
    },
    "kernelspec": {
      "name": "python3",
      "display_name": "Python 3"
    },
    "language_info": {
      "name": "python"
    }
  },
  "cells": [
    {
      "cell_type": "markdown",
      "metadata": {
        "id": "view-in-github",
        "colab_type": "text"
      },
      "source": [
        "<a href=\"https://colab.research.google.com/github/ChristianPaul1127/CPEN-21A-ECE2-1/blob/main/Lab1.ipynb\" target=\"_parent\"><img src=\"https://colab.research.google.com/assets/colab-badge.svg\" alt=\"Open In Colab\"/></a>"
      ]
    },
    {
      "cell_type": "markdown",
      "metadata": {
        "id": "CGdMpKBdqgR_"
      },
      "source": [
        "#Laboratory 1"
      ]
    },
    {
      "cell_type": "code",
      "metadata": {
        "colab": {
          "base_uri": "https://localhost:8080/"
        },
        "id": "mP6C47y1qtRC",
        "outputId": "ea0b10f2-7fc7-4171-e10d-947e1c2c1059"
      },
      "source": [
        "#Code for displaying “Welcome to Python Programming”\n",
        "\n",
        "print(\"Welcome to Python Programming\")"
      ],
      "execution_count": 14,
      "outputs": [
        {
          "output_type": "stream",
          "name": "stdout",
          "text": [
            "Welcome to Python Programming\n"
          ]
        }
      ]
    },
    {
      "cell_type": "code",
      "metadata": {
        "colab": {
          "base_uri": "https://localhost:8080/"
        },
        "id": "EvflDNCxsIx_",
        "outputId": "85e9f608-42b2-4bd7-d31d-d6e87716e6e5"
      },
      "source": [
        "x=\"Christian \"\n",
        "y=\"Paul \"\n",
        "z=\"Garcia\"\n",
        "Name=x+y+z\n",
        "print(\"Name: \"+Name)\n",
        "A=int(19)\n",
        "print(\"Age:\", A, \"years old\")\n",
        "Address=\"87 Don Placido Campos Avenue Dasmarinas City Cavite\"\n",
        "print(\"Address:\",Address)"
      ],
      "execution_count": 48,
      "outputs": [
        {
          "output_type": "stream",
          "name": "stdout",
          "text": [
            "Name: Christian Paul Garcia\n",
            "Age: 19 years old\n",
            "Address: 87 Don Placido Campos Avenue Dasmarinas City Cavite\n"
          ]
        }
      ]
    }
  ]
}