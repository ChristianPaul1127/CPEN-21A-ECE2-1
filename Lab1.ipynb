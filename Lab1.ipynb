{
  "nbformat": 4,
  "nbformat_minor": 0,
  "metadata": {
    "colab": {
      "name": "Lab1.ipynb",
      "provenance": [],
      "authorship_tag": "ABX9TyM235nZLCC1ugZ/HDku+MHp",
      "include_colab_link": true
    },
    "kernelspec": {
      "name": "python3",
      "display_name": "Python 3"
    },
    "language_info": {
      "name": "python"
    }
  },
  "cells": [
    {
      "cell_type": "markdown",
      "metadata": {
        "id": "view-in-github",
        "colab_type": "text"
      },
      "source": [
        "<a href=\"https://colab.research.google.com/github/ChristianPaul1127/CPEN-21A-ECE2-1/blob/main/Lab1.ipynb\" target=\"_parent\"><img src=\"https://colab.research.google.com/assets/colab-badge.svg\" alt=\"Open In Colab\"/></a>"
      ]
    },
    {
      "cell_type": "markdown",
      "metadata": {
        "id": "CGdMpKBdqgR_"
      },
      "source": [
        "#Laboratory 1"
      ]
    },
    {
      "cell_type": "code",
      "metadata": {
        "colab": {
          "base_uri": "https://localhost:8080/"
        },
        "id": "mP6C47y1qtRC",
        "outputId": "ea0b10f2-7fc7-4171-e10d-947e1c2c1059"
      },
      "source": [
        "#Code for displaying “Welcome to Python Programming”\n",
        "\n",
        "print(\"Welcome to Python Programming\")"
      ],
      "execution_count": 14,
      "outputs": [
        {
          "output_type": "stream",
          "name": "stdout",
          "text": [
            "Welcome to Python Programming\n"
          ]
        }
      ]
    },
    {
      "cell_type": "code",
      "metadata": {
        "colab": {
          "base_uri": "https://localhost:8080/"
        },
        "id": "EvflDNCxsIx_",
        "outputId": "7219f5bf-d270-4b67-dbf0-2b97556ae747"
      },
      "source": [
        "x=\"Christian \"\n",
        "y=\"Paul \"\n",
        "z=\"Garcia\"\n",
        "Name=x+y+z\n",
        "print(\"My name is \"+Name)\n",
        "A=int(19)\n",
        "print(\"I am\", A, \"years old\")\n",
        "Address1=int(87)\n",
        "Address2=\"Don Placido Campos Avenue \"\n",
        "Address3=\"Dasmarinas City \"\n",
        "Address4=\"Cavite\"\n",
        "print(\"I live in\",Address1,Address2+Address3+Address4)"
      ],
      "execution_count": 44,
      "outputs": [
        {
          "output_type": "stream",
          "name": "stdout",
          "text": [
            "My name is Christian Paul Garcia\n",
            "I am 19 years old\n",
            "I live in 87 Don Placido Campos Avenue Dasmarinas City Cavite\n"
          ]
        }
      ]
    }
  ]
}