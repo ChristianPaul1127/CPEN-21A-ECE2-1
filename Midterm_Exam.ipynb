{
  "nbformat": 4,
  "nbformat_minor": 0,
  "metadata": {
    "colab": {
      "name": "Midterm Exam.ipynb",
      "provenance": [],
      "authorship_tag": "ABX9TyPZ0yo33agj7zSfJQsp1EaN",
      "include_colab_link": true
    },
    "kernelspec": {
      "name": "python3",
      "display_name": "Python 3"
    },
    "language_info": {
      "name": "python"
    }
  },
  "cells": [
    {
      "cell_type": "markdown",
      "metadata": {
        "id": "view-in-github",
        "colab_type": "text"
      },
      "source": [
        "<a href=\"https://colab.research.google.com/github/ChristianPaul1127/CPEN-21A-ECE2-1/blob/main/Midterm_Exam.ipynb\" target=\"_parent\"><img src=\"https://colab.research.google.com/assets/colab-badge.svg\" alt=\"Open In Colab\"/></a>"
      ]
    },
    {
      "cell_type": "markdown",
      "metadata": {
        "id": "VKqZVqLM1s6Q"
      },
      "source": [
        "Midterm Exam"
      ]
    },
    {
      "cell_type": "code",
      "metadata": {
        "colab": {
          "base_uri": "https://localhost:8080/"
        },
        "id": "WYVOkjmf1kOd",
        "outputId": "bb08b933-9c6e-496a-ea67-589011aea7db"
      },
      "source": [
        "#PROBLEM STATEMENT 1\n",
        "#Full Name\n",
        "FN=\"Christian Paul Garcia\"\n",
        "print(\"Full Name:\"+FN)\n",
        "#Student Number\n",
        "SN=\"202011658\"\n",
        "print(\"Student Number: \"+SN)\n",
        "#Age\n",
        "Age=\"19\"\n",
        "print(\"Age: \"+Age)\n",
        "#Birthday\n",
        "Birthday=\"November 27, 2001\"\n",
        "print(\"Birthday: \" +Birthday) \n",
        "#Address\n",
        "Add=\"87 Don Placido Campos Avenue San Agustin 2 Dasmarinas Cavite\"\n",
        "print(\"Address: \"+Add)\n",
        "#Course\n",
        "Course=\"Bachelor of Science in Electronics Engineering\"\n",
        "print(\"Course: \"+Course)\n",
        "#Last Sem GWA\n",
        "LSGWA=\"1.5\"\n",
        "print(\"Last Semester GWA: \"+LSGWA)"
      ],
      "execution_count": 79,
      "outputs": [
        {
          "output_type": "stream",
          "name": "stdout",
          "text": [
            "Full Name:Christian Paul Garcia\n",
            "Student Number: 202011658\n",
            "Age: 19\n",
            "Birthday: November 27, 2001\n",
            "Address: 87 Don Placido Campos Avenue San Agustin 2 Dasmarinas Cavite\n",
            "Course: Bachelor of Science in Electronics Engineering\n",
            "Last Semester GWA: 1.5\n"
          ]
        }
      ]
    },
    {
      "cell_type": "code",
      "metadata": {
        "colab": {
          "base_uri": "https://localhost:8080/"
        },
        "id": "pYC7PHMY3l4v",
        "outputId": "eebed71f-953d-4d70-f946-86f8c0ef3920"
      },
      "source": [
        "#PROBLEM STATEMENT 2\n",
        "#Condition a\n",
        "n=4\n",
        "#answ=\"Y\"\n",
        "print(2<n & n<6)\n",
        "#Condition b\n",
        "print(2<n | n==6)\n",
        "#Condition c\n",
        "print(not(2<n | n==6))\n",
        "#Condition d\n",
        "print(not(n<6))\n",
        "#Condition e\n",
        "answ=\"Y\"\n",
        "print(answ==\"Y\" or answ==\"y\")\n",
        "#Condition f\n",
        "print(answ==\"Y\" and answ==\"y\")\n",
        "#Condition g\n",
        "print(not(answ==\"y\"))\n",
        "#Condition h\n",
        "print(2<n & n==5+1 or answ==\"No\")\n",
        "#Condition i\n",
        "print(n==2 & n==7 or answ==\"Y\")\n",
        "#Condition j\n",
        "print(n==2 & (n==7 or answ==\"Y\"))"
      ],
      "execution_count": 77,
      "outputs": [
        {
          "output_type": "stream",
          "name": "stdout",
          "text": [
            "True\n",
            "False\n",
            "True\n",
            "False\n",
            "True\n",
            "False\n",
            "True\n",
            "False\n",
            "True\n",
            "False\n"
          ]
        }
      ]
    },
    {
      "cell_type": "code",
      "metadata": {
        "colab": {
          "base_uri": "https://localhost:8080/"
        },
        "id": "yqwbMgJb5n74",
        "outputId": "65e516ba-6b67-4053-c2e5-0cf6fd1578b5"
      },
      "source": [
        "#PROBLEM STATEMENT 3\n",
        "x=2\n",
        "y=-3\n",
        "w=7\n",
        "z=-10\n",
        "#a\n",
        "print(x/y)\n",
        "#b\n",
        "print(w/y/x)\n",
        "#c\n",
        "print(z/y%x)\n",
        "#d\n",
        "print(x%-y*w)\n",
        "#e\n",
        "print(x%y)\n",
        "#f\n",
        "print(z%w-y/x*5+5)\n",
        "#g\n",
        "print(9-x%(2+y))\n",
        "#h\n",
        "print(z//w)\n",
        "#i\n",
        "print((2+y)**2)\n",
        "#j\n",
        "print(w/x*2)"
      ],
      "execution_count": 65,
      "outputs": [
        {
          "output_type": "stream",
          "name": "stdout",
          "text": [
            "-0.6666666666666666\n",
            "-1.1666666666666667\n",
            "1.3333333333333335\n",
            "14\n",
            "-1\n",
            "16.5\n",
            "9\n",
            "-2\n",
            "1\n",
            "7.0\n"
          ]
        }
      ]
    }
  ]
}